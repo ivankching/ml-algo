{
 "cells": [
  {
   "cell_type": "code",
   "execution_count": 1,
   "id": "9c51f5d0",
   "metadata": {},
   "outputs": [],
   "source": [
    "import numpy as np\n",
    "from linear_regression import SimpleLinearRegression, LinearRegression"
   ]
  },
  {
   "cell_type": "code",
   "execution_count": 2,
   "id": "d36e095a",
   "metadata": {},
   "outputs": [],
   "source": [
    "x = np.array([1, 2, 3, 4, 5])\n",
    "y = x * 2 + 3"
   ]
  },
  {
   "cell_type": "code",
   "execution_count": 3,
   "id": "926589ea",
   "metadata": {},
   "outputs": [
    {
     "data": {
      "text/plain": [
       "<linear_regression.SimpleLinearRegression at 0x1d77bd8af90>"
      ]
     },
     "execution_count": 3,
     "metadata": {},
     "output_type": "execute_result"
    }
   ],
   "source": [
    "model = SimpleLinearRegression()\n",
    "model.fit(x, y)"
   ]
  },
  {
   "cell_type": "code",
   "execution_count": 4,
   "id": "79c55f4f",
   "metadata": {},
   "outputs": [],
   "source": [
    "y_pred = model.predict(x)"
   ]
  },
  {
   "cell_type": "code",
   "execution_count": 5,
   "id": "07f80cc6",
   "metadata": {},
   "outputs": [
    {
     "data": {
      "text/plain": [
       "array([ 5.,  7.,  9., 11., 13.])"
      ]
     },
     "execution_count": 5,
     "metadata": {},
     "output_type": "execute_result"
    }
   ],
   "source": [
    "y_pred"
   ]
  },
  {
   "cell_type": "code",
   "execution_count": 6,
   "id": "2386cd56",
   "metadata": {},
   "outputs": [
    {
     "data": {
      "text/plain": [
       "array([ 5,  7,  9, 11, 13])"
      ]
     },
     "execution_count": 6,
     "metadata": {},
     "output_type": "execute_result"
    }
   ],
   "source": [
    "y"
   ]
  },
  {
   "cell_type": "code",
   "execution_count": 7,
   "id": "9a894e08",
   "metadata": {},
   "outputs": [],
   "source": [
    "x_test = np.array([-1, -2, -3, -4, -5])\n",
    "y_pred = model.predict(x_test)"
   ]
  },
  {
   "cell_type": "code",
   "execution_count": 8,
   "id": "193fb912",
   "metadata": {},
   "outputs": [
    {
     "data": {
      "text/plain": [
       "array([ 1., -1., -3., -5., -7.])"
      ]
     },
     "execution_count": 8,
     "metadata": {},
     "output_type": "execute_result"
    }
   ],
   "source": [
    "y_pred"
   ]
  },
  {
   "cell_type": "code",
   "execution_count": 9,
   "id": "d7140e03",
   "metadata": {},
   "outputs": [
    {
     "data": {
      "text/plain": [
       "np.float64(2.0)"
      ]
     },
     "execution_count": 9,
     "metadata": {},
     "output_type": "execute_result"
    }
   ],
   "source": [
    "model.slope"
   ]
  },
  {
   "cell_type": "code",
   "execution_count": 10,
   "id": "299aebda",
   "metadata": {},
   "outputs": [
    {
     "data": {
      "text/plain": [
       "np.float64(3.0)"
      ]
     },
     "execution_count": 10,
     "metadata": {},
     "output_type": "execute_result"
    }
   ],
   "source": [
    "model.intercept"
   ]
  },
  {
   "cell_type": "code",
   "execution_count": 2,
   "id": "d2e226a9",
   "metadata": {},
   "outputs": [],
   "source": [
    "X = np.array([[1, 2, 3],\n",
    "              [-1, -2, -3],\n",
    "              [2, 4, 6],\n",
    "              [5, 1, 3],\n",
    "              [9, 12, 5]])\n",
    "weights = np.array([2, 3, 4]).T\n",
    "y = X @ weights + 1"
   ]
  },
  {
   "cell_type": "code",
   "execution_count": 3,
   "id": "15af9073",
   "metadata": {},
   "outputs": [
    {
     "data": {
      "text/plain": [
       "array([ 21, -19,  41,  26,  75])"
      ]
     },
     "execution_count": 3,
     "metadata": {},
     "output_type": "execute_result"
    }
   ],
   "source": [
    "y"
   ]
  },
  {
   "cell_type": "code",
   "execution_count": 4,
   "id": "abf572f0",
   "metadata": {},
   "outputs": [
    {
     "data": {
      "text/plain": [
       "-19"
      ]
     },
     "execution_count": 4,
     "metadata": {},
     "output_type": "execute_result"
    }
   ],
   "source": [
    "-1*2+(-2*3)+(-3*4) + 1"
   ]
  },
  {
   "cell_type": "code",
   "execution_count": 5,
   "id": "4b501d8c",
   "metadata": {},
   "outputs": [
    {
     "data": {
      "text/plain": [
       "<linear_regression.LinearRegression at 0x2b8c0a4c6e0>"
      ]
     },
     "execution_count": 5,
     "metadata": {},
     "output_type": "execute_result"
    }
   ],
   "source": [
    "model2 = LinearRegression()\n",
    "model2.fit(X, y)"
   ]
  },
  {
   "cell_type": "code",
   "execution_count": 6,
   "id": "e931a1de",
   "metadata": {},
   "outputs": [
    {
     "data": {
      "text/plain": [
       "array([1., 2., 3., 4.])"
      ]
     },
     "execution_count": 6,
     "metadata": {},
     "output_type": "execute_result"
    }
   ],
   "source": [
    "model2.weights"
   ]
  },
  {
   "cell_type": "markdown",
   "id": "d766da1e",
   "metadata": {},
   "source": []
  },
  {
   "cell_type": "markdown",
   "id": "d76940b2",
   "metadata": {},
   "source": []
  }
 ],
 "metadata": {
  "kernelspec": {
   "display_name": "py313",
   "language": "python",
   "name": "python3"
  },
  "language_info": {
   "codemirror_mode": {
    "name": "ipython",
    "version": 3
   },
   "file_extension": ".py",
   "mimetype": "text/x-python",
   "name": "python",
   "nbconvert_exporter": "python",
   "pygments_lexer": "ipython3",
   "version": "3.13.2"
  }
 },
 "nbformat": 4,
 "nbformat_minor": 5
}
